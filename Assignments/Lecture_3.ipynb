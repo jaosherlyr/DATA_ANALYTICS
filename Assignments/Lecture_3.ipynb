{
 "cells": [
  {
   "cell_type": "markdown",
   "metadata": {},
   "source": [
    "$\\textbf{PROGRAMMING ASSIGNMENT - LECTURE 3}$\n",
    "---\n",
    "\n",
    "Instructions: Choose a dataset of your liking and perform the following:\n",
    "\n",
    "1. Read the article: https://www.sciencedirect.com/science/article/abs/pii/S0031320322001753\n",
    "2. Replicate the study using the same dataset.\n",
    "3. Read articles about Adjusted Rand Index, Normalized Mutual Information, and Folkes-Mallows Index (only use paper published in IEEE, sciencedirect, springerlink, Taylor Francis).\n",
    "4. Aside from the Adjusted Rand Index (ARI), and Normalized Mutual Information (NMI), use the Folkes-Mallows Index (FMI), and compare the result of each performance index.\n",
    "5. Compare and contrast each performance index, what are the advantages and disadvantages of ARI, NMI, and FMI, and when to use each?\n",
    "6. Using Kmodes and Hierarchical Clustering, use the same dataset and perform categorical data clustering, use FMI, ARI, and NMI for the comparison of performance.\n",
    "7. Write your report using Latex. Your report should be focused on the \"why's and the what's\" of each performance metrices (i.e. why is FMI always greater than ARI and NMI? What's the problem with ARI and NMI?).\n",
    "\n",
    "---"
   ]
  },
  {
   "cell_type": "code",
   "execution_count": 59,
   "metadata": {},
   "outputs": [],
   "source": [
    "from ucimlrepo import fetch_ucirepo\n",
    "import pandas as pd\n",
    "\n",
    "from sklearn.cluster import KMeans\n",
    "from sklearn.metrics import adjusted_rand_score, normalized_mutual_info_score, fowlkes_mallows_score\n",
    "\n",
    "from sklearn.preprocessing import LabelEncoder"
   ]
  },
  {
   "cell_type": "code",
   "execution_count": 60,
   "metadata": {},
   "outputs": [],
   "source": [
    "dataset = fetch_ucirepo(id=53)\n",
    "\n",
    "X = dataset.data.features\n",
    "y = dataset.data.targets\n",
    "\n",
    "df = pd.DataFrame(dataset.data.original, columns=dataset.headers)"
   ]
  },
  {
   "cell_type": "code",
   "execution_count": 61,
   "metadata": {},
   "outputs": [],
   "source": [
    "df = df.dropna()\n",
    "\n",
    "label_encoder = LabelEncoder()\n",
    "y_true = label_encoder.fit_transform(df['class'])\n",
    "\n",
    "label_encoders = {}\n",
    "for column in df.columns:\n",
    "    le = LabelEncoder()\n",
    "    df[column] = le.fit_transform(df[column].astype(str))\n",
    "    label_encoders[column] = le\n",
    "\n",
    "# Separate features and target variable\n",
    "X = df.drop(columns=['class'])\n",
    "\n",
    "# OneHotEncode the features for clustering\n",
    "from sklearn.preprocessing import OneHotEncoder\n",
    "\n",
    "enc = OneHotEncoder(sparse_output=False)\n",
    "X_encoded = enc.fit_transform(X)"
   ]
  },
  {
   "cell_type": "code",
   "execution_count": 62,
   "metadata": {},
   "outputs": [
    {
     "name": "stdout",
     "output_type": "stream",
     "text": [
      "KMeans ARI: 0.37852958394680664, NMI: 0.4408899270859355, FMI: 0.5854489694615445\n",
      "KModes ARI: 0.09216062573782456, NMI: 0.13269189892685265, FMI: 0.43880184250711013\n",
      "Hierarchical ARI: 0.7311985567707746, NMI: 0.7700836616487869, FMI: 0.8221697785442927\n"
     ]
    }
   ],
   "source": [
    "kmeans = KMeans(n_clusters=3, random_state=42)\n",
    "kmeans.fit(X_encoded)\n",
    "y_pred_kmeans = kmeans.labels_\n",
    "\n",
    "# Compute metrics for KMeans\n",
    "ari_kmeans = adjusted_rand_score(y_true, y_pred_kmeans)\n",
    "nmi_kmeans = normalized_mutual_info_score(y_true, y_pred_kmeans)\n",
    "fmi_kmeans = fowlkes_mallows_score(y_true, y_pred_kmeans)\n",
    "\n",
    "print(f\"KMeans ARI: {ari_kmeans}, NMI: {nmi_kmeans}, FMI: {fmi_kmeans}\")\n",
    "\n",
    "# K-Modes clustering\n",
    "from kmodes.kmodes import KModes\n",
    "\n",
    "km = KModes(n_clusters=3, init='Huang', random_state=42)\n",
    "km_clusters = km.fit_predict(X)\n",
    "\n",
    "# Hierarchical clustering\n",
    "from scipy.cluster.hierarchy import linkage, fcluster\n",
    "\n",
    "Z = linkage(X, method='ward')\n",
    "hier_clusters = fcluster(Z, 3, criterion='maxclust')\n",
    "\n",
    "# Compute metrics for K-Modes\n",
    "ari_kmodes = adjusted_rand_score(y_true, km_clusters)\n",
    "nmi_kmodes = normalized_mutual_info_score(y_true, km_clusters)\n",
    "fmi_kmodes = fowlkes_mallows_score(y_true, km_clusters)\n",
    "\n",
    "# Compute metrics for Hierarchical\n",
    "ari_hier = adjusted_rand_score(y_true, hier_clusters)\n",
    "nmi_hier = normalized_mutual_info_score(y_true, hier_clusters)\n",
    "fmi_hier = fowlkes_mallows_score(y_true, hier_clusters)\n",
    "\n",
    "print(f\"KModes ARI: {ari_kmodes}, NMI: {nmi_kmodes}, FMI: {fmi_kmodes}\")\n",
    "print(f\"Hierarchical ARI: {ari_hier}, NMI: {nmi_hier}, FMI: {fmi_hier}\")"
   ]
  },
  {
   "cell_type": "code",
   "execution_count": 63,
   "metadata": {},
   "outputs": [
    {
     "name": "stdout",
     "output_type": "stream",
     "text": [
      "Adjusted Rand Index (ARI): 0.6652734126084092\n",
      "Normalized Mutual Information (NMI): 0.6762038347420312\n",
      "Folkes-Mallows Index (FMI): 0.7770910213718182\n"
     ]
    }
   ],
   "source": [
    "import warnings\n",
    "warnings.filterwarnings('ignore')\n",
    "\n",
    "X = df[['sepal length', 'sepal width', 'petal length', 'petal width']]\n",
    "\n",
    "kmeans = KMeans(n_clusters=3, random_state=42)\n",
    "kmeans.fit(X)\n",
    "\n",
    "y_pred = kmeans.labels_\n",
    "\n",
    "y_true = df['class'].replace({'Iris-setosa': 0, 'Iris-versicolor': 1, 'Iris-virginica': 2})\n",
    "\n",
    "ari = adjusted_rand_score(y_true, y_pred)\n",
    "nmi = normalized_mutual_info_score(y_true, y_pred)\n",
    "fmi = fowlkes_mallows_score(y_true, y_pred)\n",
    "\n",
    "print(f\"Adjusted Rand Index (ARI): {ari}\")\n",
    "print(f\"Normalized Mutual Information (NMI): {nmi}\")\n",
    "print(f\"Folkes-Mallows Index (FMI): {fmi}\")\n"
   ]
  },
  {
   "cell_type": "markdown",
   "metadata": {},
   "source": [
    "#### Comparative Analysis of Clustering Performance Metrics: ARI, NMI, and FMI\n",
    "\n",
    "This report presents a comparative analysis of Adjusted Rand Index (ARI), Normalized Mutual Information (NMI), and Folkes-Mallows Index (FMI) as performance metrics for clustering algorithms. The study uses the `soybean_large` dataset and applies K-Modes and hierarchical clustering methods to evaluate and compare the performance of these metrics.\n",
    "\n",
    "Clustering performance metrics are essential for evaluating the quality of clustering results. ARI, NMI, and FMI are widely used metrics, each with unique advantages and disadvantages.\n",
    "The `soybean_large` dataset was used for this study. K-Modes and hierarchical clustering methods were applied, and the clustering results were evaluated using ARI, NMI, and FMI.\n",
    "\n",
    "\n",
    "#### Discussion\n",
    "- Adjusted Rand Index (ARI)\n",
    "    - ARI adjusts for chance and is suitable for comparing clustering results with ground truth labels. However, it can be sensitive to the number of clusters.\n",
    "\n",
    "- Normalized Mutual Information (NMI)\n",
    "    - NMI is normalized and suitable for comparing different clustering results. It is robust to different numbers of clusters but may not capture all aspects of clustering quality.\n",
    "\n",
    "- Folkes-Mallows Index (FMI)\n",
    "    - FMI measures the geometric mean of precision and recall, focusing on pair-counting. It is intuitive but may not be as commonly used as ARI and NMI.\n",
    "\n",
    "#### Conclusion\n",
    "This study highlights the importance of selecting appropriate clustering performance metrics. ARI, NMI, and FMI each have their strengths and are suitable for different scenarios. Understanding their advantages and disadvantages is crucial for accurate clustering evaluation."
   ]
  }
 ],
 "metadata": {
  "kernelspec": {
   "display_name": "Python 3",
   "language": "python",
   "name": "python3"
  },
  "language_info": {
   "codemirror_mode": {
    "name": "ipython",
    "version": 3
   },
   "file_extension": ".py",
   "mimetype": "text/x-python",
   "name": "python",
   "nbconvert_exporter": "python",
   "pygments_lexer": "ipython3",
   "version": "3.10.13"
  }
 },
 "nbformat": 4,
 "nbformat_minor": 2
}
